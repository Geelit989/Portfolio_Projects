{
 "cells": [
  {
   "cell_type": "code",
   "execution_count": null,
   "metadata": {},
   "outputs": [],
   "source": [
    "!pip install requests twilio schedule"
   ]
  },
  {
   "cell_type": "code",
   "execution_count": 1,
   "metadata": {},
   "outputs": [],
   "source": [
    "from twilio.rest import Client\n",
    "import requests\n",
    "import schedule\n",
    "import time\n",
    "import json"
   ]
  },
  {
   "cell_type": "code",
   "execution_count": 16,
   "metadata": {},
   "outputs": [],
   "source": [
    "r = requests.get('https://api.github.com/events')\n"
   ]
  },
  {
   "cell_type": "code",
   "execution_count": 9,
   "metadata": {},
   "outputs": [],
   "source": [
    "r = requests.post('https://httpbin.org/post', data={'key': 'value'})"
   ]
  },
  {
   "cell_type": "code",
   "execution_count": 17,
   "metadata": {},
   "outputs": [],
   "source": [
    "payload = {'key1': 'value1', 'key2': 'value2'}\n",
    "r = requests.get(\"https://httpbin.org/get\", params=payload)"
   ]
  },
  {
   "cell_type": "code",
   "execution_count": 18,
   "metadata": {},
   "outputs": [
    {
     "name": "stdout",
     "output_type": "stream",
     "text": [
      "https://httpbin.org/get?key1=value1&key2=value2\n"
     ]
    }
   ],
   "source": [
    "print(r.url)"
   ]
  },
  {
   "cell_type": "code",
   "execution_count": null,
   "metadata": {},
   "outputs": [],
   "source": [
    "r = requests.get('https://api.github.com/events')\n",
    "r.text"
   ]
  },
  {
   "cell_type": "code",
   "execution_count": null,
   "metadata": {},
   "outputs": [],
   "source": []
  },
  {
   "cell_type": "code",
   "execution_count": 2,
   "metadata": {},
   "outputs": [],
   "source": [
    "def get_gridpoint_forecast(lat, lon):\n",
    "    \"\"\"\n",
    "    Fetch the gridpoint forecast for the given latitude and longitude.\n",
    "    \"\"\"\n",
    "    base_url = 'https://api.weather.gov/points'\n",
    "    point_url = f\"{base_url}/{lat},{lon}\"\n",
    "    headers = {\n",
    "        'User-Agent': '(rainy_season_alerts_app, little.ge@yahoo.com)'\n",
    "    }\n",
    "\n",
    "    # Fetch grid data using the /points endpoint\n",
    "    try:\n",
    "        point_response = requests.get(point_url, headers=headers)\n",
    "        point_response.raise_for_status()\n",
    "    except requests.exceptions.HTTPError as http_err:\n",
    "        print(f\"HTTP error occurred: {http_err}\")\n",
    "        return None\n",
    "    except Exception as err:\n",
    "        print(f\"Error occurred: {err}\")\n",
    "        return None\n",
    "\n",
    "    point_data = point_response.json()\n",
    "    # print(\"this is point data: \\n\", json.dumps(point_data, indent=2))\n",
    "\n",
    "    # Retrieve forecast URL from the grid data\n",
    "    forecast_url = point_data['properties']['forecast']\n",
    "\n",
    "    # Fetch the forecast data\n",
    "    try:\n",
    "        forecast_response = requests.get(forecast_url, headers=headers)\n",
    "        forecast_response.raise_for_status()\n",
    "        # print(\"this is forecast data: \\n\", json.dumps(forecast_response.json(), indent=2))\n",
    "        return forecast_response.json()['properties']['periods']\n",
    "        \n",
    "    except requests.exceptions.HTTPError as http_err:\n",
    "        print(f\"HTTP error occurred: {http_err}\")\n",
    "    except Exception as err:\n",
    "        print(f\"Error occurred: {err}\")\n",
    "\n",
    "    return None\n"
   ]
  },
  {
   "cell_type": "code",
   "execution_count": 3,
   "metadata": {},
   "outputs": [
    {
     "name": "stdout",
     "output_type": "stream",
     "text": [
      "Tonight: Mostly clear, with a low around 54. Northeast wind around 5 mph.\n",
      "Sunday: Sunny, with a high near 80. Northeast wind 5 to 10 mph.\n",
      "Sunday Night: Clear, with a low around 54. North northeast wind 5 to 10 mph.\n",
      "Monday: Sunny, with a high near 81. Northeast wind 5 to 10 mph.\n",
      "Monday Night: Clear, with a low around 60. Northeast wind 5 to 10 mph.\n",
      "Tuesday: Sunny, with a high near 84.\n",
      "Tuesday Night: Mostly clear, with a low around 62.\n",
      "Wednesday: Sunny, with a high near 84.\n",
      "Wednesday Night: Clear, with a low around 60.\n",
      "Thursday: Sunny, with a high near 84.\n",
      "Thursday Night: Mostly clear, with a low around 60.\n",
      "Friday: Sunny, with a high near 84.\n",
      "Friday Night: Mostly clear, with a low around 60.\n",
      "Saturday: Sunny, with a high near 84.\n"
     ]
    }
   ],
   "source": [
    "latitude = 30.4383\n",
    "longitude = -84.2807\n",
    "\n",
    "forecast_data = get_gridpoint_forecast(latitude, longitude)\n",
    "\n",
    "if forecast_data:\n",
    "    for period in forecast_data:\n",
    "        print(f\"{period['name']}: {period['detailedForecast']}\")\n"
   ]
  },
  {
   "cell_type": "code",
   "execution_count": 4,
   "metadata": {},
   "outputs": [],
   "source": [
    "def check_rain_conditions(forecast_data):\n",
    "    for period in forecast_data:\n",
    "        if 'precipitation' in period['detailedForecast'].lower():\n",
    "            chance_of_rain = period.get('probabilityOfPrecipitation', {}).get('value', 0)\n",
    "            rainfall_amount = period.get('quantitativePrecipitation', {}).get('value', 0)\n",
    "            \n",
    "            if chance_of_rain >= 50 or rainfall_amount >= 0.10:\n",
    "                return True, period['name'], chance_of_rain, rainfall_amount\n",
    "    return False, None, 0, 0\n"
   ]
  },
  {
   "cell_type": "code",
   "execution_count": 5,
   "metadata": {},
   "outputs": [
    {
     "data": {
      "text/plain": [
       "(False, None, 0, 0)"
      ]
     },
     "execution_count": 5,
     "metadata": {},
     "output_type": "execute_result"
    }
   ],
   "source": [
    "check_rain_conditions(forecast_data)"
   ]
  },
  {
   "cell_type": "code",
   "execution_count": null,
   "metadata": {},
   "outputs": [],
   "source": [
    "def send_alert(to_phone_number, message_body):\n",
    "    # Twilio credentials\n",
    "    account_sid = 'your_account_sid'\n",
    "    auth_token = 'your_auth_token'\n",
    "    twilio_phone_number = 'your_twilio_phone_number'\n",
    "    \n",
    "    client = Client(account_sid, auth_token)\n",
    "    \n",
    "    message = client.messages.create(\n",
    "        body=message_body,\n",
    "        from_=twilio_phone_number,\n",
    "        to=to_phone_number\n",
    "    )\n",
    "    \n",
    "    print(f\"Message sent: {message.sid}\")\n"
   ]
  },
  {
   "cell_type": "code",
   "execution_count": null,
   "metadata": {},
   "outputs": [],
   "source": [
    "def run_daily_check(zip_code, phone_number):\n",
    "    forecast_data = get_weather_forecast(zip_code)\n",
    "    \n",
    "    if forecast_data:\n",
    "        condition_met, period_name, chance_of_rain, rainfall_amount = check_rain_conditions(forecast_data)\n",
    "        \n",
    "        if condition_met:\n",
    "            message = f\"Reminder: {period_name} has a {chance_of_rain}% chance of rain with {rainfall_amount} inches of expected rainfall.\"\n",
    "            send_alert(phone_number, message)\n",
    "        else:\n",
    "            print(\"No rain conditions met for today.\")\n",
    "    else:\n",
    "        print(\"Unable to fetch forecast data.\")\n",
    "\n",
    "# Schedule the task to run every day at a specific time (e.g., 7 AM)\n",
    "schedule.every().day.at(\"07:00\").do(run_daily_check, zip_code='90210', phone_number='+1234567890')\n",
    "\n",
    "# Keep the script running\n",
    "while True:\n",
    "    schedule.run_pending()\n",
    "    time.sleep(60)  # Check every minute if the task is due\n"
   ]
  },
  {
   "cell_type": "markdown",
   "metadata": {},
   "source": [
    "### config.json"
   ]
  },
  {
   "cell_type": "code",
   "execution_count": null,
   "metadata": {},
   "outputs": [],
   "source": [
    "{\n",
    "    \"zip_code\": \"90210\",\n",
    "    \"phone_number\": \"+1234567890\"\n",
    "}\n"
   ]
  },
  {
   "cell_type": "code",
   "execution_count": null,
   "metadata": {},
   "outputs": [],
   "source": [
    "def load_config():\n",
    "    with open('config.json') as config_file:\n",
    "        return json.load(config_file)\n",
    "\n",
    "config = load_config()\n",
    "\n",
    "schedule.every().day.at(\"07:00\").do(run_daily_check, zip_code=config['zip_code'], phone_number=config['phone_number'])\n"
   ]
  },
  {
   "cell_type": "code",
   "execution_count": null,
   "metadata": {},
   "outputs": [],
   "source": []
  },
  {
   "cell_type": "code",
   "execution_count": null,
   "metadata": {},
   "outputs": [],
   "source": []
  }
 ],
 "metadata": {
  "kernelspec": {
   "display_name": "weather_app",
   "language": "python",
   "name": "python3"
  },
  "language_info": {
   "codemirror_mode": {
    "name": "ipython",
    "version": 3
   },
   "file_extension": ".py",
   "mimetype": "text/x-python",
   "name": "python",
   "nbconvert_exporter": "python",
   "pygments_lexer": "ipython3",
   "version": "3.10.9"
  }
 },
 "nbformat": 4,
 "nbformat_minor": 2
}
