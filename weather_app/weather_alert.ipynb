{
 "cells": [
  {
   "cell_type": "code",
   "execution_count": null,
   "metadata": {},
   "outputs": [],
   "source": [
    "!pip install requests twilio schedule"
   ]
  },
  {
   "cell_type": "code",
   "execution_count": 3,
   "metadata": {},
   "outputs": [],
   "source": [
    "from twilio.rest import Client\n",
    "import requests\n",
    "import schedule\n",
    "import time\n",
    "import json"
   ]
  },
  {
   "cell_type": "code",
   "execution_count": 16,
   "metadata": {},
   "outputs": [],
   "source": [
    "r = requests.get('https://api.github.com/events')\n"
   ]
  },
  {
   "cell_type": "code",
   "execution_count": 9,
   "metadata": {},
   "outputs": [],
   "source": [
    "r = requests.post('https://httpbin.org/post', data={'key': 'value'})"
   ]
  },
  {
   "cell_type": "code",
   "execution_count": 17,
   "metadata": {},
   "outputs": [],
   "source": [
    "payload = {'key1': 'value1', 'key2': 'value2'}\n",
    "r = requests.get(\"https://httpbin.org/get\", params=payload)"
   ]
  },
  {
   "cell_type": "code",
   "execution_count": 18,
   "metadata": {},
   "outputs": [
    {
     "name": "stdout",
     "output_type": "stream",
     "text": [
      "https://httpbin.org/get?key1=value1&key2=value2\n"
     ]
    }
   ],
   "source": [
    "print(r.url)"
   ]
  },
  {
   "cell_type": "code",
   "execution_count": 19,
   "metadata": {},
   "outputs": [
    {
     "data": {
      "text/plain": [
       "'[{\"id\":\"42576004604\",\"type\":\"PushEvent\",\"actor\":{\"id\":41898282,\"login\":\"github-actions[bot]\",\"display_login\":\"github-actions\",\"gravatar_id\":\"\",\"url\":\"https://api.github.com/users/github-actions[bot]\",\"avatar_url\":\"https://avatars.githubusercontent.com/u/41898282?\"},\"repo\":{\"id\":671292637,\"name\":\"dfef22/to-keep-green\",\"url\":\"https://api.github.com/repos/dfef22/to-keep-green\"},\"payload\":{\"repository_id\":671292637,\"push_id\":20572347298,\"size\":1,\"distinct_size\":1,\"ref\":\"refs/heads/main\",\"head\":\"6727785773e07f368583e7a7f7b1c09f1d3d57ca\",\"before\":\"92747de4a72b0b196bc4224a806695aa79f64493\",\"commits\":[{\"sha\":\"6727785773e07f368583e7a7f7b1c09f1d3d57ca\",\"author\":{\"email\":\"dfef22@163.com\",\"name\":\"dfef22\"},\"message\":\"a commit a day keeps your girlfriend away\",\"distinct\":true,\"url\":\"https://api.github.com/repos/dfef22/to-keep-green/commits/6727785773e07f368583e7a7f7b1c09f1d3d57ca\"}]},\"public\":true,\"created_at\":\"2024-10-06T03:23:43Z\"},{\"id\":\"42576004602\",\"type\":\"PushEvent\",\"actor\":{\"id\":173535095,\"login\":\"frdpzk2\",\"display_login\":\"frdpzk2\",\"gravatar_id\":\"\",\"url\":\"https://api.github.com/users/frdpzk2\",\"avatar_url\":\"https://avatars.githubusercontent.com/u/173535095?\"},\"repo\":{\"id\":818567109,\"name\":\"frdpzk2/ppub\",\"url\":\"https://api.github.com/repos/frdpzk2/ppub\"},\"payload\":{\"repository_id\":818567109,\"push_id\":20572347296,\"size\":1,\"distinct_size\":1,\"ref\":\"refs/heads/main\",\"head\":\"8e6bff6a354182e3e79d1e316044e7f4dccc157a\",\"before\":\"36ba8a36899ed5a2a588df2b24b3f2d791b2bbc0\",\"commits\":[{\"sha\":\"8e6bff6a354182e3e79d1e316044e7f4dccc157a\",\"author\":{\"email\":\"frdpzk2@gmail.com\",\"name\":\"frdpzk2\"},\"message\":\"commited\",\"distinct\":true,\"url\":\"https://api.github.com/repos/frdpzk2/ppub/commits/8e6bff6a354182e3e79d1e316044e7f4dccc157a\"}]},\"public\":true,\"created_at\":\"2024-10-06T03:23:43Z\"},{\"id\":\"42576004599\",\"type\":\"PushEvent\",\"actor\":{\"id\":99865968,\"login\":\"Phong12HexDockwork\",\"display_login\":\"Phong12HexDockwork\",\"gravatar_id\":\"\",\"url\":\"https://api.github.com/users/Phong12HexDockwork\",\"avatar_url\":\"https://avatars.githubusercontent.com/u/99865968?\"},\"repo\":{\"id\":868300599,\"name\":\"Phong12HexDockwork/UVita\",\"url\":\"https://api.github.com/repos/Phong12HexDockwork/UVita\"},\"payload\":{\"repository_id\":868300599,\"push_id\":20572347293,\"size\":1,\"distinct_size\":1,\"ref\":\"refs/heads/main\",\"head\":\"83aaa68d2f1973fc0a94f8e2b3679e12785609e7\",\"before\":\"c2116e68b9bec01cc0be106f4f52aa6773c4fe1a\",\"commits\":[{\"sha\":\"83aaa68d2f1973fc0a94f8e2b3679e12785609e7\",\"author\":{\"email\":\"99865968+Phong12HexDockwork@users.noreply.github.com\",\"name\":\"Neraxis_1210\"},\"message\":\"Update README.md\",\"distinct\":true,\"url\":\"https://api.github.com/repos/Phong12HexDockwork/UVita/commits/83aaa68d2f1973fc0a94f8e2b3679e12785609e7\"}]},\"public\":true,\"created_at\":\"2024-10-06T03:23:43Z\"},{\"id\":\"42576004595\",\"type\":\"PushEvent\",\"actor\":{\"id\":43392346,\"login\":\"zekinah\",\"display_login\":\"zekinah\",\"gravatar_id\":\"\",\"url\":\"https://api.github.com/users/zekinah\",\"avatar_url\":\"https://avatars.githubusercontent.com/u/43392346?\"},\"repo\":{\"id\":279726390,\"name\":\"zekinah/zekinah\",\"url\":\"https://api.github.com/repos/zekinah/zekinah\"},\"payload\":{\"repository_id\":279726390,\"push_id\":20572347292,\"size\":1,\"distinct_size\":1,\"ref\":\"refs/heads/master\",\"head\":\"72020bc67d85417982c847618bebe62db32db8b0\",\"before\":\"bf05880d1d861a5a9a234c91befc8186c8bb44bd\",\"commits\":[{\"sha\":\"72020bc67d85417982c847618bebe62db32db8b0\",\"author\":{\"email\":\"41898282+github-actions[bot]@users.noreply.github.com\",\"name\":\"readme-bot\"},\"message\":\"Updated with Dev Metrics\",\"distinct\":true,\"url\":\"https://api.github.com/repos/zekinah/zekinah/commits/72020bc67d85417982c847618bebe62db32db8b0\"}]},\"public\":true,\"created_at\":\"2024-10-06T03:23:43Z\"},{\"id\":\"42576004598\",\"type\":\"CreateEvent\",\"actor\":{\"id\":10810283,\"login\":\"direwolf-github\",\"display_login\":\"direwolf-github\",\"gravatar_id\":\"\",\"url\":\"https://api.github.com/users/direwolf-github\",\"avatar_url\":\"https://avatars.githubusercontent.com/u/10810283?\"},\"repo\":{\"id\":868309459,\"name\":\"direwolf-github/ephemeral-ci-eebcec53\",\"url\":\"https://api.github.com/repos/direwolf-github/ephemeral-ci-eebcec53\"},\"payload\":{\"ref\":null,\"ref_type\":\"repository\",\"master_branch\":\"main\",\"description\":null,\"pusher_type\":\"user\"},\"public\":true,\"created_at\":\"2024-10-06T03:23:43Z\"},{\"id\":\"42576004596\",\"type\":\"PushEvent\",\"actor\":{\"id\":41898282,\"login\":\"github-actions[bot]\",\"display_login\":\"github-actions\",\"gravatar_id\":\"\",\"url\":\"https://api.github.com/users/github-actions[bot]\",\"avatar_url\":\"https://avatars.githubusercontent.com/u/41898282?\"},\"repo\":{\"id\":582832624,\"name\":\"CharlesChiuGit/CharlesChiuGit\",\"url\":\"https://api.github.com/repos/CharlesChiuGit/CharlesChiuGit\"},\"payload\":{\"repository_id\":582832624,\"push_id\":20572347294,\"size\":1,\"distinct_size\":1,\"ref\":\"refs/heads/main\",\"head\":\"21c9e2131325c5ed8e69f102947ea950cd034563\",\"before\":\"617e451934baded71c2bddbdbf3d937077a48f26\",\"commits\":[{\"sha\":\"21c9e2131325c5ed8e69f102947ea950cd034563\",\"author\":{\"email\":\"41898282+github-actions[bot]@users.noreply.github.com\",\"name\":\"github-actions[bot]\"},\"message\":\"Update github-metrics.svg - [Skip GitHub Action]\",\"distinct\":true,\"url\":\"https://api.github.com/repos/CharlesChiuGit/CharlesChiuGit/commits/21c9e2131325c5ed8e69f102947ea950cd034563\"}]},\"public\":true,\"created_at\":\"2024-10-06T03:23:43Z\"},{\"id\":\"42576004587\",\"type\":\"PushEvent\",\"actor\":{\"id\":41898282,\"login\":\"github-actions[bot]\",\"display_login\":\"github-actions\",\"gravatar_id\":\"\",\"url\":\"https://api.github.com/users/github-actions[bot]\",\"avatar_url\":\"https://avatars.githubusercontent.com/u/41898282?\"},\"repo\":{\"id\":673201358,\"name\":\"Owen1246/Owen1246\",\"url\":\"https://api.github.com/repos/Owen1246/Owen1246\"},\"payload\":{\"repository_id\":673201358,\"push_id\":20572347285,\"size\":1,\"distinct_size\":1,\"ref\":\"refs/heads/main\",\"head\":\"a0536feea715275d6b062c3def3d81abfe545543\",\"before\":\"945c96afb38da4d7888d9fdc245be6d273008c88\",\"commits\":[{\"sha\":\"a0536feea715275d6b062c3def3d81abfe545543\",\"author\":{\"email\":\"servantelindzicz@yahoo.com\",\"name\":\"Owen1246\"},\"message\":\"a commit a day keeps your girlfriend away\",\"distinct\":true,\"url\":\"https://api.github.com/repos/Owen1246/Owen1246/commits/a0536feea715275d6b062c3def3d81abfe545543\"}]},\"public\":true,\"created_at\":\"2024-10-06T03:23:43Z\"},{\"id\":\"42576004592\",\"type\":\"CreateEvent\",\"actor\":{\"id\":183963007,\"login\":\"AyushMaurya13\",\"display_login\":\"AyushMaurya13\",\"gravatar_id\":\"\",\"url\":\"https://api.github.com/users/AyushMaurya13\",\"avatar_url\":\"https://avatars.githubusercontent.com/u/183963007?\"},\"repo\":{\"id\":868309458,\"name\":\"AyushMaurya13/Tip_Calculator\",\"url\":\"https://api.github.com/repos/AyushMaurya13/Tip_Calculator\"},\"payload\":{\"ref\":null,\"ref_type\":\"repository\",\"master_branch\":\"main\",\"description\":null,\"pusher_type\":\"user\"},\"public\":true,\"created_at\":\"2024-10-06T03:23:43Z\"},{\"id\":\"42576004591\",\"type\":\"PushEvent\",\"actor\":{\"id\":41898282,\"login\":\"github-actions[bot]\",\"display_login\":\"github-actions\",\"gravatar_id\":\"\",\"url\":\"https://api.github.com/users/github-actions[bot]\",\"avatar_url\":\"https://avatars.githubusercontent.com/u/41898282?\"},\"repo\":{\"id\":670503572,\"name\":\"wooferQsdfv/vbfwoofer\",\"url\":\"https://api.github.com/repos/wooferQsdfv/vbfwoofer\"},\"payload\":{\"repository_id\":670503572,\"push_id\":20572347290,\"size\":1,\"distinct_size\":1,\"ref\":\"refs/heads/main\",\"head\":\"feece6386408c3d3e1345ccbc60748e793c98d47\",\"before\":\"4867dd5babfabc8ea6e7bc4d566b550758b528cb\",\"commits\":[{\"sha\":\"feece6386408c3d3e1345ccbc60748e793c98d47\",\"author\":{\"email\":\"woofer.05.marked@icloud.com\",\"name\":\"wooferQsdfv\"},\"message\":\"a commit a day keeps your girlfriend away\",\"distinct\":true,\"url\":\"https://api.github.com/repos/wooferQsdfv/vbfwoofer/commits/feece6386408c3d3e1345ccbc60748e793c98d47\"}]},\"public\":true,\"created_at\":\"2024-10-06T03:23:43Z\"},{\"id\":\"42576004586\",\"type\":\"WatchEvent\",\"actor\":{\"id\":64674935,\"login\":\"kiwijuice56\",\"display_login\":\"kiwijuice56\",\"gravatar_id\":\"\",\"url\":\"https://api.github.com/users/kiwijuice56\",\"avatar_url\":\"https://avatars.githubusercontent.com/u/64674935?\"},\"repo\":{\"id\":635032106,\"name\":\"Moros1138/PGEtinker\",\"url\":\"https://api.github.com/repos/Moros1138/PGEtinker\"},\"payload\":{\"action\":\"started\"},\"public\":true,\"created_at\":\"2024-10-06T03:23:43Z\"},{\"id\":\"42576004584\",\"type\":\"PushEvent\",\"actor\":{\"id\":41898282,\"login\":\"github-actions[bot]\",\"display_login\":\"github-actions\",\"gravatar_id\":\"\",\"url\":\"https://api.github.com/users/github-actions[bot]\",\"avatar_url\":\"https://avatars.githubusercontent.com/u/41898282?\"},\"repo\":{\"id\":671087205,\"name\":\"yohah85/ftgjh\",\"url\":\"https://api.github.com/repos/yohah85/ftgjh\"},\"payload\":{\"repository_id\":671087205,\"push_id\":20572347283,\"size\":1,\"distinct_size\":1,\"ref\":\"refs/heads/main\",\"head\":\"772e308100a297ab1d2f62e13ef811d80afca425\",\"before\":\"6b5ceb6d4bcf52ff44d7cf2467403065cbd1d1dc\",\"commits\":[{\"sha\":\"772e308100a297ab1d2f62e13ef811d80afca425\",\"author\":{\"email\":\"yohah85@gmail.com\",\"name\":\"yohah85\"},\"message\":\"a commit a day keeps your girlfriend away\",\"distinct\":true,\"url\":\"https://api.github.com/repos/yohah85/ftgjh/commits/772e308100a297ab1d2f62e13ef811d80afca425\"}]},\"public\":true,\"created_at\":\"2024-10-06T03:23:43Z\"},{\"id\":\"42576004580\",\"type\":\"PushEvent\",\"actor\":{\"id\":67578210,\"login\":\"Mohamed-Mourad\",\"display_login\":\"Mohamed-Mourad\",\"gravatar_id\":\"\",\"url\":\"https://api.github.com/users/Mohamed-Mourad\",\"avatar_url\":\"https://avatars.githubusercontent.com/u/67578210?\"},\"repo\":{\"id\":862755034,\"name\":\"Mohamed-Mourad/Soil-Workspaces\",\"url\":\"https://api.github.com/repos/Mohamed-Mourad/Soil-Workspaces\"},\"payload\":{\"repository_id\":862755034,\"push_id\":20572347284,\"size\":1,\"distinct_size\":1,\"ref\":\"refs/heads/main\",\"head\":\"9fdc1808a7f365e56ec1ef9b510d4314ec62a061\",\"before\":\"322d06bd341f9cdb94181adeb1df6022031d1356\",\"commits\":[{\"sha\":\"9fdc1808a7f365e56ec1ef9b510d4314ec62a061\",\"author\":{\"email\":\"67578210+Mohamed-Mourad@users.noreply.github.com\",\"name\":\"Mohamed Mourad\"},\"message\":\"Update dio_helper.dart\",\"distinct\":true,\"url\":\"https://api.github.com/repos/Mohamed-Mourad/Soil-Workspaces/commits/9fdc1808a7f365e56ec1ef9b510d4314ec62a061\"}]},\"public\":true,\"created_at\":\"2024-10-06T03:23:43Z\"},{\"id\":\"42576004574\",\"type\":\"PushEvent\",\"actor\":{\"id\":29139614,\"login\":\"renovate[bot]\",\"display_login\":\"renovate\",\"gravatar_id\":\"\",\"url\":\"https://api.github.com/users/renovate[bot]\",\"avatar_url\":\"https://avatars.githubusercontent.com/u/29139614?\"},\"repo\":{\"id\":587698463,\"name\":\"big-unibo/explain\",\"url\":\"https://api.github.com/repos/big-unibo/explain\"},\"payload\":{\"repository_id\":587698463,\"push_id\":20572347275,\"size\":2,\"distinct_size\":1,\"ref\":\"refs/heads/renovate/numpy-2.x\",\"head\":\"49f0e55606da42cce4e255cf63cd4e795dfeab28\",\"before\":\"559b4b6e453792901b3efad5a5bffbdcbda3b31c\",\"commits\":[{\"sha\":\"bdab5fbb093bb0b3beca1414662d6eb3a585cb03\",\"author\":{\"email\":\"semantic-release-bot@martynus.net\",\"name\":\"semantic-release-bot\"},\"message\":\"chore(release): 1.1.105 [skip ci]\\\\n\\\\n## [1.1.105](https://github.com/big-unibo/explain/compare/1.1.104...1.1.105) (2024-10-06)\\\\n\\\\n### Dependency updates\\\\n\\\\n* **deps:** update node.js to 20.18 ([8e5cfd5](https://github.com/big-unibo/explain/commit/8e5cfd5fcc8812631b8d1870edc459415dd51256))\\\\n\\\\n### Bug Fixes\\\\n\\\\n* **deps:** update dependency com.fasterxml.jackson.dataformat:jackson-dataformat-yaml to v2.18.0 ([3997f24](https://github.com/big-unibo/explain/commit/3997f24328d2b4f6114b52c65b081c25692024b2))\\\\n\\\\n### Build and continuous integration\\\\n\\\\n* **deps:** update actions/checkout action to v4.2.0 ([c66febe](https://github.com/big-unibo/explain/commit/c66febe3c1cb36f360ecbbb03a49983053c62553))\\\\n* **deps:** update actions/setup-java action to v4.4.0 ([102de1e](https://github.com/big-unibo/explain/commit/102de1e1f24250c8e82eb28fcbcaa6ebae1c21fc))\",\"distinct\":false,\"url\":\"https://api.github.com/repos/big-unibo/explain/commits/bdab5fbb093bb0b3beca1414662d6eb3a585cb03\"},{\"sha\":\"49f0e55606da42cce4e255cf63cd4e795dfeab28\",\"author\":{\"email\":\"29139614+renovate[bot]@users.noreply.github.com\",\"name\":\"renovate[bot]\"},\"message\":\"chore(deps): update dependency numpy to v2\",\"distinct\":true,\"url\":\"https://api.github.com/repos/big-unibo/explain/commits/49f0e55606da42cce4e255cf63cd4e795dfeab28\"}]},\"public\":true,\"created_at\":\"2024-10-06T03:23:43Z\",\"org\":{\"id\":20706922,\"login\":\"big-unibo\",\"gravatar_id\":\"\",\"url\":\"https://api.github.com/orgs/big-unibo\",\"avatar_url\":\"https://avatars.githubusercontent.com/u/20706922?\"}},{\"id\":\"42576004575\",\"type\":\"PushEvent\",\"actor\":{\"id\":41898282,\"login\":\"github-actions[bot]\",\"display_login\":\"github-actions\",\"gravatar_id\":\"\",\"url\":\"https://api.github.com/users/github-actions[bot]\",\"avatar_url\":\"https://avatars.githubusercontent.com/u/41898282?\"},\"repo\":{\"id\":652123267,\"name\":\"arcVaishali/arcVaishali\",\"url\":\"https://api.github.com/repos/arcVaishali/arcVaishali\"},\"payload\":{\"repository_id\":652123267,\"push_id\":20572347279,\"size\":1,\"distinct_size\":1,\"ref\":\"refs/heads/output\",\"head\":\"d6f98811be94e077e7e57c9be0ff408deaf0db10\",\"before\":\"aeda52d1d47b6b203cd67e41c117f845f4ef38cc\",\"commits\":[{\"sha\":\"d6f98811be94e077e7e57c9be0ff408deaf0db10\",\"author\":{\"email\":\"41898282+github-actions[bot]@users.noreply.github.com\",\"name\":\"github-actions[bot]\"},\"message\":\"Deploy to GitHub pages\",\"distinct\":true,\"url\":\"https://api.github.com/repos/arcVaishali/arcVaishali/commits/d6f98811be94e077e7e57c9be0ff408deaf0db10\"}]},\"public\":true,\"created_at\":\"2024-10-06T03:23:43Z\"},{\"id\":\"42576004579\",\"type\":\"PublicEvent\",\"actor\":{\"id\":167143847,\"login\":\"shogunsentinel\",\"display_login\":\"shogunsentinel\",\"gravatar_id\":\"\",\"url\":\"https://api.github.com/users/shogunsentinel\",\"avatar_url\":\"https://avatars.githubusercontent.com/u/167143847?\"},\"repo\":{\"id\":868294709,\"name\":\"shogunsentinel/paginaweb\",\"url\":\"https://api.github.com/repos/shogunsentinel/paginaweb\"},\"payload\":{},\"public\":true,\"created_at\":\"2024-10-06T03:23:43Z\"},{\"id\":\"42576004570\",\"type\":\"PushEvent\",\"actor\":{\"id\":41898282,\"login\":\"github-actions[bot]\",\"display_login\":\"github-actions\",\"gravatar_id\":\"\",\"url\":\"https://api.github.com/users/github-actions[bot]\",\"avatar_url\":\"https://avatars.githubusercontent.com/u/41898282?\"},\"repo\":{\"id\":795896242,\"name\":\"xdanangelxoqenpm/beatae-iusto-accusantium\",\"url\":\"https://api.github.com/repos/xdanangelxoqenpm/beatae-iusto-accusantium\"},\"payload\":{\"repository_id\":795896242,\"push_id\":20572347268,\"size\":1,\"distinct_size\":1,\"ref\":\"refs/heads/main\",\"head\":\"8cc923458d5986dea8d1efecead4096673b99e42\",\"before\":\"f57a7c715151ac275bf6b08c6f1f2600f784ce5a\",\"commits\":[{\"sha\":\"8cc923458d5986dea8d1efecead4096673b99e42\",\"author\":{\"email\":\"xdanangelxoqE@users.noreply.github.com\",\"name\":\"xdanangelxoqE\"},\"message\":\"Bevolitaga IT ban bicibur dutepuwe low tero commit finoz code.\",\"distinct\":true,\"url\":\"https://api.github.com/repos/xdanangelxoqenpm/beatae-iusto-accusantium/commits/8cc923458d5986dea8d1efecead4096673b99e42\"}]},\"public\":true,\"created_at\":\"2024-10-06T03:23:43Z\",\"org\":{\"id\":167699337,\"login\":\"xdanangelxoqenpm\",\"gravatar_id\":\"\",\"url\":\"https://api.github.com/orgs/xdanangelxoqenpm\",\"avatar_url\":\"https://avatars.githubusercontent.com/u/167699337?\"}},{\"id\":\"42576004573\",\"type\":\"PushEvent\",\"actor\":{\"id\":41898282,\"login\":\"github-actions[bot]\",\"display_login\":\"github-actions\",\"gravatar_id\":\"\",\"url\":\"https://api.github.com/users/github-actions[bot]\",\"avatar_url\":\"https://avatars.githubusercontent.com/u/41898282?\"},\"repo\":{\"id\":748644072,\"name\":\"TimVan88/Anna\",\"url\":\"https://api.github.com/repos/TimVan88/Anna\"},\"payload\":{\"repository_id\":748644072,\"push_id\":20572347276,\"size\":1,\"distinct_size\":1,\"ref\":\"refs/heads/master\",\"head\":\"5dd11c431501768b352c7773584bb5e555f61964\",\"before\":\"7b15db92666da0f4dd7787a4cfb48b0eb13f01f9\",\"commits\":[{\"sha\":\"5dd11c431501768b352c7773584bb5e555f61964\",\"author\":{\"email\":\"ritabestide@mail.com\",\"name\":\"TimVan88\"},\"message\":\"a commit a day keeps your girlfriend away\",\"distinct\":true,\"url\":\"https://api.github.com/repos/TimVan88/Anna/commits/5dd11c431501768b352c7773584bb5e555f61964\"}]},\"public\":true,\"created_at\":\"2024-10-06T03:23:43Z\"},{\"id\":\"42576004567\",\"type\":\"PushEvent\",\"actor\":{\"id\":41898282,\"login\":\"github-actions[bot]\",\"display_login\":\"github-actions\",\"gravatar_id\":\"\",\"url\":\"https://api.github.com/users/github-actions[bot]\",\"avatar_url\":\"https://avatars.githubusercontent.com/u/41898282?\"},\"repo\":{\"id\":745780525,\"name\":\"plurogunu234235/plurogunu234235\",\"url\":\"https://api.github.com/repos/plurogunu234235/plurogunu234235\"},\"payload\":{\"repository_id\":745780525,\"push_id\":20572347272,\"size\":1,\"distinct_size\":1,\"ref\":\"refs/heads/master\",\"head\":\"38668c7bc5eded6cece5365b8598b1abc5e41674\",\"before\":\"279bcd1d00887da201c5a796f75f488f9a995323\",\"commits\":[{\"sha\":\"38668c7bc5eded6cece5365b8598b1abc5e41674\",\"author\":{\"email\":\"plurogununeb@mail.com\",\"name\":\"plurogunu234235\"},\"message\":\"a commit a day keeps your girlfriend away\",\"distinct\":true,\"url\":\"https://api.github.com/repos/plurogunu234235/plurogunu234235/commits/38668c7bc5eded6cece5365b8598b1abc5e41674\"}]},\"public\":true,\"created_at\":\"2024-10-06T03:23:43Z\"},{\"id\":\"42576004565\",\"type\":\"PushEvent\",\"actor\":{\"id\":41898282,\"login\":\"github-actions[bot]\",\"display_login\":\"github-actions\",\"gravatar_id\":\"\",\"url\":\"https://api.github.com/users/github-actions[bot]\",\"avatar_url\":\"https://avatars.githubusercontent.com/u/41898282?\"},\"repo\":{\"id\":658165498,\"name\":\"DarkKnightYHJ/AdGuardHomeList\",\"url\":\"https://api.github.com/repos/DarkKnightYHJ/AdGuardHomeList\"},\"payload\":{\"repository_id\":658165498,\"push_id\":20572347271,\"size\":1,\"distinct_size\":1,\"ref\":\"refs/heads/main\",\"head\":\"e2d96102fd0b1a39d4c28d06792ec3ddc75f4245\",\"before\":\"b0202bd27013a015196bdad2cb083e23d25ef98e\",\"commits\":[{\"sha\":\"e2d96102fd0b1a39d4c28d06792ec3ddc75f4245\",\"author\":{\"email\":\"knight_yhj@163.com\",\"name\":\"Knight Yang\"},\"message\":\"Update List By Github Action (committed at 2024-10-06 03:23:40 UTC)\",\"distinct\":true,\"url\":\"https://api.github.com/repos/DarkKnightYHJ/AdGuardHomeList/commits/e2d96102fd0b1a39d4c28d06792ec3ddc75f4245\"}]},\"public\":true,\"created_at\":\"2024-10-06T03:23:43Z\"},{\"id\":\"42576004551\",\"type\":\"PushEvent\",\"actor\":{\"id\":41898282,\"login\":\"github-actions[bot]\",\"display_login\":\"github-actions\",\"gravatar_id\":\"\",\"url\":\"https://api.github.com/users/github-actions[bot]\",\"avatar_url\":\"https://avatars.githubusercontent.com/u/41898282?\"},\"repo\":{\"id\":805332888,\"name\":\"hishpr/consequuntur-repudiandae\",\"url\":\"https://api.github.com/repos/hishpr/consequuntur-repudiandae\"},\"payload\":{\"repository_id\":805332888,\"push_id\":20572347261,\"size\":1,\"distinct_size\":1,\"ref\":\"refs/heads/main\",\"head\":\"2931c587b2201ce3c61f33cb0b4cb3394c3dc956\",\"before\":\"51addc4bfe12ec6fe09ecb378903d99ef3232466\",\"commits\":[{\"sha\":\"2931c587b2201ce3c61f33cb0b4cb3394c3dc956\",\"author\":{\"email\":\"nareshkumarjaggi@users.noreply.github.com\",\"name\":\"nareshkumarjaggi\"},\"message\":\"Commit commit pufi ja zazizag bilata daf feature boqumar IT.\",\"distinct\":true,\"url\":\"https://api.github.com/repos/hishpr/consequuntur-repudiandae/commits/2931c587b2201ce3c61f33cb0b4cb3394c3dc956\"}]},\"public\":true,\"created_at\":\"2024-10-06T03:23:42Z\",\"org\":{\"id\":37731115,\"login\":\"hishpr\",\"gravatar_id\":\"\",\"url\":\"https://api.github.com/orgs/hishpr\",\"avatar_url\":\"https://avatars.githubusercontent.com/u/37731115?\"}},{\"id\":\"42576004555\",\"type\":\"PullRequestEvent\",\"actor\":{\"id\":1589480,\"login\":\"BrewTestBot\",\"display_login\":\"BrewTestBot\",\"gravatar_id\":\"\",\"url\":\"https://api.github.com/users/BrewTestBot\",\"avatar_url\":\"https://avatars.githubusercontent.com/u/1589480?\"},\"repo\":{\"id\":52855516,\"name\":\"Homebrew/homebrew-core\",\"url\":\"https://api.github.com/repos/Homebrew/homebrew-core\"},\"payload\":{\"action\":\"closed\",\"number\":192937,\"pull_request\":{\"url\":\"https://api.github.com/repos/Homebrew/homebrew-core/pulls/192937\",\"id\":2109244264,\"node_id\":\"PR_kwDOAyaC3M59uINo\",\"html_url\":\"https://github.com/Homebrew/homebrew-core/pull/192937\",\"diff_url\":\"https://github.com/Homebrew/homebrew-core/pull/192937.diff\",\"patch_url\":\"https://github.com/Homebrew/homebrew-core/pull/192937.patch\",\"issue_url\":\"https://api.github.com/repos/Homebrew/homebrew-core/issues/192937\",\"number\":192937,\"state\":\"closed\",\"locked\":false,\"title\":\"aider 0.59.1\",\"user\":{\"login\":\"chenrui333\",\"id\":1580956,\"node_id\":\"MDQ6VXNlcjE1ODA5NTY=\",\"avatar_url\":\"https://avatars.githubusercontent.com/u/1580956?v=4\",\"gravatar_id\":\"\",\"url\":\"https://api.github.com/users/chenrui333\",\"html_url\":\"https://github.com/chenrui333\",\"followers_url\":\"https://api.github.com/users/chenrui333/followers\",\"following_url\":\"https://api.github.com/users/chenrui333/following{/other_user}\",\"gists_url\":\"https://api.github.com/users/chenrui333/gists{/gist_id}\",\"starred_url\":\"https://api.github.com/users/chenrui333/starred{/owner}{/repo}\",\"subscriptions_url\":\"https://api.github.com/users/chenrui333/subscriptions\",\"organizations_url\":\"https://api.github.com/users/chenrui333/orgs\",\"repos_url\":\"https://api.github.com/users/chenrui333/repos\",\"events_url\":\"https://api.github.com/users/chenrui333/events{/privacy}\",\"received_events_url\":\"https://api.github.com/users/chenrui333/received_events\",\"type\":\"User\",\"site_admin\":false},\"body\":\"<!-- Use [x] to mark item done, or just click the checkboxes with device pointer -->\\\\r\\\\n\\\\r\\\\n- [ ] Have you followed the [guidelines for contributing](https://github.com/Homebrew/homebrew-core/blob/HEAD/CONTRIBUTING.md)?\\\\r\\\\n- [ ] Have you ensured that your commits follow the [commit style guide](https://docs.brew.sh/Formula-Cookbook#commit)?\\\\r\\\\n- [ ] Have you checked that there aren\\'t other open [pull requests](https://github.com/Homebrew/homebrew-core/pulls) for the same formula update/change?\\\\r\\\\n- [ ] Have you built your formula locally with `HOMEBREW_NO_INSTALL_FROM_API=1 brew install --build-from-source <formula>`, where `<formula>` is the name of the formula you\\'re submitting?\\\\r\\\\n- [ ] Is your test running fine `brew test <formula>`, where `<formula>` is the name of the formula you\\'re submitting?\\\\r\\\\n- [ ] Does your build pass `brew audit --strict <formula>` (after doing `HOMEBREW_NO_INSTALL_FROM_API=1 brew install --build-from-source <formula>`)? If this is a new formula, does it pass `brew audit --new <formula>`?\\\\r\\\\n\\\\r\\\\n-----\\\\r\\\\n\\\\r\\\\nhttps://github.com/grantjenks/py-tree-sitter-languages/issues/63\",\"created_at\":\"2024-10-06T02:25:52Z\",\"updated_at\":\"2024-10-06T03:23:42Z\",\"closed_at\":\"2024-10-06T03:23:41Z\",\"merged_at\":\"2024-10-06T03:23:41Z\",\"merge_commit_sha\":\"68ce981e50490061a74d19848a9ee645f4bc25f0\",\"assignee\":null,\"assignees\":[],\"requested_reviewers\":[],\"requested_teams\":[],\"labels\":[{\"id\":351930070,\"node_id\":\"MDU6TGFiZWwzNTE5MzAwNzA=\",\"url\":\"https://api.github.com/repos/Homebrew/homebrew-core/labels/python\",\"name\":\"python\",\"color\":\"bfe5bf\",\"default\":false,\"description\":\"Python use is a significant feature of the PR or issue\"},{\"id\":624617309,\"node_id\":\"MDU6TGFiZWw2MjQ2MTczMDk=\",\"url\":\"https://api.github.com/repos/Homebrew/homebrew-core/labels/rust\",\"name\":\"rust\",\"color\":\"bfe5bf\",\"default\":false,\"description\":\"Rust use is a significant feature of the PR or issue\"},{\"id\":5278102982,\"node_id\":\"LA_kwDOAyaC3M8AAAABOpl1xg\",\"url\":\"https://api.github.com/repos/Homebrew/homebrew-core/labels/CI-published-bottle-commits\",\"name\":\"CI-published-bottle-commits\",\"color\":\"0E8A16\",\"default\":false,\"description\":\"The commits for the built bottles have been pushed to the PR branch.\"}],\"milestone\":null,\"draft\":false,\"commits_url\":\"https://api.github.com/repos/Homebrew/homebrew-core/pulls/192937/commits\",\"review_comments_url\":\"https://api.github.com/repos/Homebrew/homebrew-core/pulls/192937/comments\",\"review_comment_url\":\"https://api.github.com/repos/Homebrew/homebrew-core/pulls/comments{/number}\",\"comments_url\":\"https://api.github.com/repos/Homebrew/homebrew-core/issues/192937/comments\",\"statuses_url\":\"https://api.github.com/repos/Homebrew/homebrew-core/statuses/65ee14099628b17ff70b9be92287194f46d1bffe\",\"head\":{\"label\":\"Homebrew:aider-0.59.1\",\"ref\":\"aider-0.59.1\",\"sha\":\"65ee14099628b17ff70b9be92287194f46d1bffe\",\"user\":{\"login\":\"Homebrew\",\"id\":1503512,\"node_id\":\"MDEyOk9yZ2FuaXphdGlvbjE1MDM1MTI=\",\"avatar_url\":\"https://avatars.githubusercontent.com/u/1503512?v=4\",\"gravatar_id\":\"\",\"url\":\"https://api.github.com/users/Homebrew\",\"html_url\":\"https://github.com/Homebrew\",\"followers_url\":\"https://api.github.com/users/Homebrew/followers\",\"following_url\":\"https://api.github.com/users/Homebrew/following{/other_user}\",\"gists_url\":\"https://api.github.com/users/Homebrew/gists{/gist_id}\",\"starred_url\":\"https://api.github.com/users/Homebrew/starred{/owner}{/repo}\",\"subscriptions_url\":\"https://api.github.com/users/Homebrew/subscriptions\",\"organizations_url\":\"https://api.github.com/users/Homebrew/orgs\",\"repos_url\":\"https://api.github.com/users/Homebrew/repos\",\"events_url\":\"https://api.github.com/users/Homebrew/events{/privacy}\",\"received_events_url\":\"https://api.github.com/users/Homebrew/received_events\",\"type\":\"Organization\",\"site_admin\":false},\"repo\":{\"id\":52855516,\"node_id\":\"MDEwOlJlcG9zaXRvcnk1Mjg1NTUxNg==\",\"name\":\"homebrew-core\",\"full_name\":\"Homebrew/homebrew-core\",\"private\":false}},\"base\":{\"label\":\"Homebrew:master\",\"ref\":\"master\",\"sha\":\"815c26a5caf80b013779c6cc224bac1e752bed37\",\"user\":{\"login\":\"Homebrew\",\"id\":1503512,\"node_id\":\"MDEyOk9yZ2FuaXphdGlvbjE1MDM1MTI=\",\"avatar_url\":\"https://avatars.githubusercontent.com/u/1503512?v=4\",\"gravatar_id\":\"\",\"url\":\"https://api.github.com/users/Homebrew\",\"html_url\":\"https://github.com/Homebrew\",\"followers_url\":\"https://api.github.com/users/Homebrew/followers\",\"following_url\":\"https://api.github.com/users/Homebrew/following{/other_user}\",\"gists_url\":\"https://api.github.com/users/Homebrew/gists{/gist_id}\",\"starred_url\":\"https://api.github.com/users/Homebrew/starred{/owner}{/repo}\",\"subscriptions_url\":\"https://api.github.com/users/Homebrew/subscriptions\",\"organizations_url\":\"https://api.github.com/users/Homebrew/orgs\",\"repos_url\":\"https://api.github.com/users/Homebrew/repos\",\"events_url\":\"https://api.github.com/users/Homebrew/events{/privacy}\",\"received_events_url\":\"https://api.github.com/users/Homebrew/received_events\",\"type\":\"Organization\",\"site_admin\":false},\"repo\":{\"id\":52855516,\"node_id\":\"MDEwOlJlcG9zaXRvcnk1Mjg1NTUxNg==\",\"name\":\"homebrew-core\",\"full_name\":\"Homebrew/homebrew-core\",\"private\":false}},\"_links\":{\"self\":{\"href\":\"https://api.github.com/repos/Homebrew/homebrew-core/pulls/192937\"},\"html\":{\"href\":\"https://github.com/Homebrew/homebrew-core/pull/192937\"},\"issue\":{\"href\":\"https://api.github.com/repos/Homebrew/homebrew-core/issues/192937\"},\"comments\":{\"href\":\"https://api.github.com/repos/Homebrew/homebrew-core/issues/192937/comments\"},\"review_comments\":{\"href\":\"https://api.github.com/repos/Homebrew/homebrew-core/pulls/192937/comments\"},\"review_comment\":{\"href\":\"https://api.github.com/repos/Homebrew/homebrew-core/pulls/comments{/number}\"},\"commits\":{\"href\":\"https://api.github.com/repos/Homebrew/homebrew-core/pulls/192937/commits\"},\"statuses\":{\"href\":\"https://api.github.com/repos/Homebrew/homebrew-core/statuses/65ee14099628b17ff70b9be92287194f46d1bffe\"}},\"author_association\":\"MEMBER\",\"auto_merge\":null,\"active_lock_reason\":null,\"merged\":true,\"mergeable\":null,\"rebaseable\":null,\"mergeable_state\":\"unknown\",\"merged_by\":{\"login\":\"BrewTestBot\",\"id\":1589480,\"node_id\":\"MDQ6VXNlcjE1ODk0ODA=\",\"avatar_url\":\"https://avatars.githubusercontent.com/u/1589480?v=4\",\"gravatar_id\":\"\",\"url\":\"https://api.github.com/users/BrewTestBot\",\"html_url\":\"https://github.com/BrewTestBot\",\"followers_url\":\"https://api.github.com/users/BrewTestBot/followers\",\"following_url\":\"https://api.github.com/users/BrewTestBot/following{/other_user}\",\"gists_url\":\"https://api.github.com/users/BrewTestBot/gists{/gist_id}\",\"starred_url\":\"https://api.github.com/users/BrewTestBot/starred{/owner}{/repo}\",\"subscriptions_url\":\"https://api.github.com/users/BrewTestBot/subscriptions\",\"organizations_url\":\"https://api.github.com/users/BrewTestBot/orgs\",\"repos_url\":\"https://api.github.com/users/BrewTestBot/repos\",\"events_url\":\"https://api.github.com/users/BrewTestBot/events{/privacy}\",\"received_events_url\":\"https://api.github.com/users/BrewTestBot/received_events\",\"type\":\"User\",\"site_admin\":false},\"comments\":1,\"review_comments\":0,\"maintainer_can_modify\":false,\"commits\":2,\"additions\":8,\"deletions\":8,\"changed_files\":1}},\"public\":true,\"created_at\":\"2024-10-06T03:23:42Z\",\"org\":{\"id\":1503512,\"login\":\"Homebrew\",\"gravatar_id\":\"\",\"url\":\"https://api.github.com/orgs/Homebrew\",\"avatar_url\":\"https://avatars.githubusercontent.com/u/1503512?\"}},{\"id\":\"42576004547\",\"type\":\"PushEvent\",\"actor\":{\"id\":115796960,\"login\":\"zerotokraken\",\"display_login\":\"zerotokraken\",\"gravatar_id\":\"\",\"url\":\"https://api.github.com/users/zerotokraken\",\"avatar_url\":\"https://avatars.githubusercontent.com/u/115796960?\"},\"repo\":{\"id\":858817411,\"name\":\"zerotokraken/shittytftbot\",\"url\":\"https://api.github.com/repos/zerotokraken/shittytftbot\"},\"payload\":{\"repository_id\":858817411,\"push_id\":20572347255,\"size\":1,\"distinct_size\":1,\"ref\":\"refs/heads/main\",\"head\":\"8fcd01c7cf6be0fac46b0a4ee2ac93dee00d9d9d\",\"before\":\"774eabcf7f045b6ff40fa5223add8842707c2f33\",\"commits\":[{\"sha\":\"8fcd01c7cf6be0fac46b0a4ee2ac93dee00d9d9d\",\"author\":{\"email\":\"ztk.cmg@gmail.com\",\"name\":\"zerotokraken\"},\"message\":\"Updated cutoff logic\",\"distinct\":true,\"url\":\"https://api.github.com/repos/zerotokraken/shittytftbot/commits/8fcd01c7cf6be0fac46b0a4ee2ac93dee00d9d9d\"}]},\"public\":true,\"created_at\":\"2024-10-06T03:23:42Z\"},{\"id\":\"42576004541\",\"type\":\"PushEvent\",\"actor\":{\"id\":49092133,\"login\":\"waqar0345\",\"display_login\":\"waqar0345\",\"gravatar_id\":\"\",\"url\":\"https://api.github.com/users/waqar0345\",\"avatar_url\":\"https://avatars.githubusercontent.com/u/49092133?\"},\"repo\":{\"id\":792877994,\"name\":\"waqar0345/Sid\",\"url\":\"https://api.github.com/repos/waqar0345/Sid\"},\"payload\":{\"repository_id\":792877994,\"push_id\":20572347254,\"size\":1,\"distinct_size\":1,\"ref\":\"refs/heads/main\",\"head\":\"313e040042b69199a571adc7d9013b7208030a10\",\"before\":\"3d1095ab5fdf61a5b2fb0e4a570da0e1bbb0e2aa\",\"commits\":[{\"sha\":\"313e040042b69199a571adc7d9013b7208030a10\",\"author\":{\"email\":\"49092133+waqar0345@users.noreply.github.com\",\"name\":\"waqar0345\"},\"message\":\"Updating player prices\",\"distinct\":true,\"url\":\"https://api.github.com/repos/waqar0345/Sid/commits/313e040042b69199a571adc7d9013b7208030a10\"}]},\"public\":true,\"created_at\":\"2024-10-06T03:23:42Z\"},{\"id\":\"42576004549\",\"type\":\"PushEvent\",\"actor\":{\"id\":99732548,\"login\":\"Alexey-Gorulev-kernelics\",\"display_login\":\"Alexey-Gorulev-kernelics\",\"gravatar_id\":\"\",\"url\":\"https://api.github.com/users/Alexey-Gorulev-kernelics\",\"avatar_url\":\"https://avatars.githubusercontent.com/u/99732548?\"},\"repo\":{\"id\":594025267,\"name\":\"magicwave-io/go-ipfs\",\"url\":\"https://api.github.com/repos/magicwave-io/go-ipfs\"},\"payload\":{\"repository_id\":594025267,\"push_id\":20572347265,\"size\":1,\"distinct_size\":1,\"ref\":\"refs/heads/feat/codec-agnostic-gc\",\"head\":\"c705cdd375190decb0e975611cc32fb2b6480145\",\"before\":\"3d894821e4da1bfca9ff3a246cf7149118067f0e\",\"commits\":[{\"sha\":\"c705cdd375190decb0e975611cc32fb2b6480145\",\"author\":{\"email\":\"a.gorulev@kernelics.com\",\"name\":\"a.gorulev\"},\"message\":\"magicwave.io\",\"distinct\":true,\"url\":\"https://api.github.com/repos/magicwave-io/go-ipfs/commits/c705cdd375190decb0e975611cc32fb2b6480145\"}]},\"public\":true,\"created_at\":\"2024-10-06T03:23:42Z\",\"org\":{\"id\":123494304,\"login\":\"magicwave-io\",\"gravatar_id\":\"\",\"url\":\"https://api.github.com/orgs/magicwave-io\",\"avatar_url\":\"https://avatars.githubusercontent.com/u/123494304?\"}},{\"id\":\"42576004548\",\"type\":\"PushEvent\",\"actor\":{\"id\":120438850,\"login\":\"1992513\",\"display_login\":\"1992513\",\"gravatar_id\":\"\",\"url\":\"https://api.github.com/users/1992513\",\"avatar_url\":\"https://avatars.githubusercontent.com/u/120438850?\"},\"repo\":{\"id\":583676719,\"name\":\"1992513/djy\",\"url\":\"https://api.github.com/repos/1992513/djy\"},\"payload\":{\"repository_id\":583676719,\"push_id\":20572347260,\"size\":1,\"distinct_size\":1,\"ref\":\"refs/heads/master\",\"head\":\"2baff33df2ed117cfba2904cbe1cd8c3a8fe50d4\",\"before\":\"d20407c103ad29145cd6b82949b25500e1933679\",\"commits\":[{\"sha\":\"2baff33df2ed117cfba2904cbe1cd8c3a8fe50d4\",\"author\":{\"email\":\"120438850+1992513@users.noreply.github.com\",\"name\":\"1992513\"},\"message\":\"Update\",\"distinct\":true,\"url\":\"https://api.github.com/repos/1992513/djy/commits/2baff33df2ed117cfba2904cbe1cd8c3a8fe50d4\"}]},\"public\":true,\"created_at\":\"2024-10-06T03:23:42Z\"},{\"id\":\"42576004545\",\"type\":\"PushEvent\",\"actor\":{\"id\":41898282,\"login\":\"github-actions[bot]\",\"display_login\":\"github-actions\",\"gravatar_id\":\"\",\"url\":\"https://api.github.com/users/github-actions[bot]\",\"avatar_url\":\"https://avatars.githubusercontent.com/u/41898282?\"},\"repo\":{\"id\":474056408,\"name\":\"web3cave/6-defi-airdrops\",\"url\":\"https://api.github.com/repos/web3cave/6-defi-airdrops\"},\"payload\":{\"repository_id\":474056408,\"push_id\":20572347262,\"size\":1,\"distinct_size\":1,\"ref\":\"refs/heads/gh-pages\",\"head\":\"90fcc270cdbc5cb5a835829f7b219f19163b686c\",\"before\":\"1b60a308faa611a46aa98f9a2b3c680a06a22998\",\"commits\":[{\"sha\":\"90fcc270cdbc5cb5a835829f7b219f19163b686c\",\"author\":{\"email\":\"0xcii@users.noreply.github.com\",\"name\":\"0xcii\"},\"message\":\"deploy: 71671f93227e1036285d8c50556b1b09ae073511\",\"distinct\":true,\"url\":\"https://api.github.com/repos/web3cave/6-defi-airdrops/commits/90fcc270cdbc5cb5a835829f7b219f19163b686c\"}]},\"public\":true,\"created_at\":\"2024-10-06T03:23:42Z\",\"org\":{\"id\":100469688,\"login\":\"web3cave\",\"gravatar_id\":\"\",\"url\":\"https://api.github.com/orgs/web3cave\",\"avatar_url\":\"https://avatars.githubusercontent.com/u/100469688?\"}},{\"id\":\"42576004542\",\"type\":\"PushEvent\",\"actor\":{\"id\":183841613,\"login\":\"thirdbunny\",\"display_login\":\"thirdbunny\",\"gravatar_id\":\"\",\"url\":\"https://api.github.com/users/thirdbunny\",\"avatar_url\":\"https://avatars.githubusercontent.com/u/183841613?\"},\"repo\":{\"id\":867707591,\"name\":\"thirdbunny/zetachain-athens-3-pow\",\"url\":\"https://api.github.com/repos/thirdbunny/zetachain-athens-3-pow\"},\"payload\":{\"repository_id\":867707591,\"push_id\":20572347257,\"size\":1,\"distinct_size\":1,\"ref\":\"refs/heads/main\",\"head\":\"06ee067adc661d5ced923f99174640869db6c34c\",\"before\":\"f6cd38ea5361fb2eff79020e5da0863a04d482ca\",\"commits\":[{\"sha\":\"06ee067adc661d5ced923f99174640869db6c34c\",\"author\":{\"email\":\"thirdbunny.xyz@gmail.com\",\"name\":\"Third Bunny Official\"},\"message\":\"Updated node height logs\",\"distinct\":true,\"url\":\"https://api.github.com/repos/thirdbunny/zetachain-athens-3-pow/commits/06ee067adc661d5ced923f99174640869db6c34c\"}]},\"public\":true,\"created_at\":\"2024-10-06T03:23:42Z\"},{\"id\":\"42576004544\",\"type\":\"CreateEvent\",\"actor\":{\"id\":90018596,\"login\":\"that-jetpack-guy\",\"display_login\":\"that-jetpack-guy\",\"gravatar_id\":\"\",\"url\":\"https://api.github.com/users/that-jetpack-guy\",\"avatar_url\":\"https://avatars.githubusercontent.com/u/90018596?\"},\"repo\":{\"id\":868306809,\"name\":\"that-jetpack-guy/aws-eks-anywhere-test-vsphere-release-0-20-ef09759f-855e-4671-8e52-a6cd688011cb-132\",\"url\":\"https://api.github.com/repos/that-jetpack-guy/aws-eks-anywhere-test-vsphere-release-0-20-ef09759f-855e-4671-8e52-a6cd688011cb-132\"},\"payload\":{\"ref\":\"aws-eks-anywhere-test-vsphere-release-0-20-ef09759f-855e-4671-8e52-a6cd688011cb-132\",\"ref_type\":\"branch\",\"master_branch\":\"main\",\"description\":\"repository for use with E2E test job aws-eks-anywhere-test-vsphere-release-0-20:ef09759f-855e-4671-8e52-a6cd688011cb-132\",\"pusher_type\":\"user\"},\"public\":true,\"created_at\":\"2024-10-06T03:23:42Z\"},{\"id\":\"42576004538\",\"type\":\"PushEvent\",\"actor\":{\"id\":41898282,\"login\":\"github-actions[bot]\",\"display_login\":\"github-actions\",\"gravatar_id\":\"\",\"url\":\"https://api.github.com/users/github-actions[bot]\",\"avatar_url\":\"https://avatars.githubusercontent.com/u/41898282?\"},\"repo\":{\"id\":797009987,\"name\":\"patrtorg/excepturi-neque-repellendus\",\"url\":\"https://api.github.com/repos/patrtorg/excepturi-neque-repellendus\"},\"payload\":{\"repository_id\":797009987,\"push_id\":20572347246,\"size\":1,\"distinct_size\":1,\"ref\":\"refs/heads/main\",\"head\":\"b2e869cecc52dc095cfe4ecf46caf1ce2a242cde\",\"before\":\"96d9a3825718a953d1e4f1b1cf6797cf70da6f36\",\"commits\":[{\"sha\":\"b2e869cecc52dc095cfe4ecf46caf1ce2a242cde\",\"author\":{\"email\":\"PatrDen@users.noreply.github.com\",\"name\":\"PatrDen\"},\"message\":\"Code. Qiket xihib nad library change. Junay change. Cecare.\",\"distinct\":true,\"url\":\"https://api.github.com/repos/patrtorg/excepturi-neque-repellendus/commits/b2e869cecc52dc095cfe4ecf46caf1ce2a242cde\"}]},\"public\":true,\"created_at\":\"2024-10-06T03:23:42Z\",\"org\":{\"id\":167952679,\"login\":\"patrtorg\",\"gravatar_id\":\"\",\"url\":\"https://api.github.com/orgs/patrtorg\",\"avatar_url\":\"https://avatars.githubusercontent.com/u/167952679?\"}},{\"id\":\"42576004537\",\"type\":\"PushEvent\",\"actor\":{\"id\":41898282,\"login\":\"github-actions[bot]\",\"display_login\":\"github-actions\",\"gravatar_id\":\"\",\"url\":\"https://api.github.com/users/github-actions[bot]\",\"avatar_url\":\"https://avatars.githubusercontent.com/u/41898282?\"},\"repo\":{\"id\":672727764,\"name\":\"rippingbfsdfg/rippingbdfa\",\"url\":\"https://api.github.com/repos/rippingbfsdfg/rippingbdfa\"},\"payload\":{\"repository_id\":672727764,\"push_id\":20572347250,\"size\":1,\"distinct_size\":1,\"ref\":\"refs/heads/main\",\"head\":\"594b20b400208754e0c03c0a43c39afae7fbd657\",\"before\":\"b2fb85657a74798081b85e1b74c059afe52de07b\",\"commits\":[{\"sha\":\"594b20b400208754e0c03c0a43c39afae7fbd657\",\"author\":{\"email\":\"ripping_dollies0g@icloud.com\",\"name\":\"rippingbfsdfg\"},\"message\":\"a commit a day keeps your girlfriend away\",\"distinct\":true,\"url\":\"https://api.github.com/repos/rippingbfsdfg/rippingbdfa/commits/594b20b400208754e0c03c0a43c39afae7fbd657\"}]},\"public\":true,\"created_at\":\"2024-10-06T03:23:42Z\"}]'"
      ]
     },
     "execution_count": 19,
     "metadata": {},
     "output_type": "execute_result"
    }
   ],
   "source": [
    "r = requests.get('https://api.github.com/events')\n",
    "r.text"
   ]
  },
  {
   "cell_type": "code",
   "execution_count": null,
   "metadata": {},
   "outputs": [],
   "source": []
  },
  {
   "cell_type": "code",
   "execution_count": 26,
   "metadata": {},
   "outputs": [],
   "source": [
    "def get_gridpoint_forecast(lat, lon):\n",
    "    \"\"\"\n",
    "    Fetch the gridpoint forecast for the given latitude and longitude.\n",
    "    \"\"\"\n",
    "    base_url = 'https://api.weather.gov/points'\n",
    "    point_url = f\"{base_url}/{lat},{lon}\"\n",
    "    headers = {\n",
    "        'User-Agent': '(rainy_season_alerts_app, little.ge@yahoo.com)'\n",
    "    }\n",
    "\n",
    "    # Fetch grid data using the /points endpoint\n",
    "    try:\n",
    "        point_response = requests.get(point_url, headers=headers)\n",
    "        point_response.raise_for_status()\n",
    "    except requests.exceptions.HTTPError as http_err:\n",
    "        print(f\"HTTP error occurred: {http_err}\")\n",
    "        return None\n",
    "    except Exception as err:\n",
    "        print(f\"Error occurred: {err}\")\n",
    "        return None\n",
    "\n",
    "    point_data = point_response.json()\n",
    "    # print(\"this is point data: \\n\", json.dumps(point_data, indent=2))\n",
    "\n",
    "    # Retrieve forecast URL from the grid data\n",
    "    forecast_url = point_data['properties']['forecast']\n",
    "\n",
    "    # Fetch the forecast data\n",
    "    try:\n",
    "        forecast_response = requests.get(forecast_url, headers=headers)\n",
    "        forecast_response.raise_for_status()\n",
    "        # print(\"this is forecast data: \\n\", json.dumps(forecast_response.json(), indent=2))\n",
    "        return forecast_response.json()['properties']['periods']\n",
    "        \n",
    "    except requests.exceptions.HTTPError as http_err:\n",
    "        print(f\"HTTP error occurred: {http_err}\")\n",
    "    except Exception as err:\n",
    "        print(f\"Error occurred: {err}\")\n",
    "\n",
    "    return None\n"
   ]
  },
  {
   "cell_type": "code",
   "execution_count": 27,
   "metadata": {},
   "outputs": [
    {
     "name": "stdout",
     "output_type": "stream",
     "text": [
      "Today: A chance of showers and thunderstorms. Mostly cloudy. High near 80, with temperatures falling to around 77 in the afternoon. East northeast wind around 10 mph. Chance of precipitation is 50%. New rainfall amounts less than a tenth of an inch possible.\n",
      "Tonight: A chance of showers and thunderstorms before 7pm, then a slight chance of showers and thunderstorms between 7pm and 8pm. Mostly cloudy, with a low around 69. Northeast wind 5 to 10 mph. Chance of precipitation is 30%. New rainfall amounts less than a tenth of an inch possible.\n",
      "Monday: Sunny. High near 86, with temperatures falling to around 83 in the afternoon. Northeast wind 5 to 10 mph.\n",
      "Monday Night: Mostly clear, with a low around 66. Northeast wind 0 to 5 mph.\n",
      "Tuesday: Mostly sunny, with a high near 84. Northeast wind 5 to 10 mph, with gusts as high as 25 mph.\n",
      "Tuesday Night: Mostly cloudy, with a low around 67.\n",
      "Wednesday: Tropical storm conditions possible. A chance of rain showers after 8am. Partly sunny, with a high near 75. Chance of precipitation is 30%.\n",
      "Wednesday Night: Tropical storm conditions possible. A chance of rain showers before 2am. Partly cloudy, with a low around 61. Chance of precipitation is 30%.\n",
      "Thursday: Tropical storm conditions possible. Mostly sunny, with a high near 76.\n",
      "Thursday Night: Mostly clear, with a low around 57.\n",
      "Friday: Sunny, with a high near 74.\n",
      "Friday Night: Mostly clear, with a low around 56.\n",
      "Saturday: Sunny, with a high near 77.\n",
      "Saturday Night: Mostly clear, with a low around 59.\n"
     ]
    }
   ],
   "source": [
    "latitude = 30.4383\n",
    "longitude = -84.2807\n",
    "\n",
    "forecast_data = get_gridpoint_forecast(latitude, longitude)\n",
    "\n",
    "if forecast_data:\n",
    "    for period in forecast_data:\n",
    "        print(f\"{period['name']}: {period['detailedForecast']}\")\n"
   ]
  },
  {
   "cell_type": "code",
   "execution_count": 28,
   "metadata": {},
   "outputs": [],
   "source": [
    "def check_rain_conditions(forecast_data):\n",
    "    for period in forecast_data:\n",
    "        if 'precipitation' in period['detailedForecast'].lower():\n",
    "            chance_of_rain = period.get('probabilityOfPrecipitation', {}).get('value', 0)\n",
    "            rainfall_amount = period.get('quantitativePrecipitation', {}).get('value', 0)\n",
    "            \n",
    "            if chance_of_rain >= 50 or rainfall_amount >= 0.10:\n",
    "                return True, period['name'], chance_of_rain, rainfall_amount\n",
    "    return False, None, 0, 0\n"
   ]
  },
  {
   "cell_type": "code",
   "execution_count": 29,
   "metadata": {},
   "outputs": [
    {
     "data": {
      "text/plain": [
       "(True, 'Today', 50, 0)"
      ]
     },
     "execution_count": 29,
     "metadata": {},
     "output_type": "execute_result"
    }
   ],
   "source": [
    "check_rain_conditions(forecast_data)"
   ]
  },
  {
   "cell_type": "code",
   "execution_count": null,
   "metadata": {},
   "outputs": [],
   "source": [
    "def send_alert(to_phone_number, message_body):\n",
    "    # Twilio credentials\n",
    "    account_sid = 'your_account_sid'\n",
    "    auth_token = 'your_auth_token'\n",
    "    twilio_phone_number = 'your_twilio_phone_number'\n",
    "    \n",
    "    client = Client(account_sid, auth_token)\n",
    "    \n",
    "    message = client.messages.create(\n",
    "        body=message_body,\n",
    "        from_=twilio_phone_number,\n",
    "        to=to_phone_number\n",
    "    )\n",
    "    \n",
    "    print(f\"Message sent: {message.sid}\")\n"
   ]
  },
  {
   "cell_type": "code",
   "execution_count": null,
   "metadata": {},
   "outputs": [],
   "source": [
    "def run_daily_check(zip_code, phone_number):\n",
    "    forecast_data = get_weather_forecast(zip_code)\n",
    "    \n",
    "    if forecast_data:\n",
    "        condition_met, period_name, chance_of_rain, rainfall_amount = check_rain_conditions(forecast_data)\n",
    "        \n",
    "        if condition_met:\n",
    "            message = f\"Reminder: {period_name} has a {chance_of_rain}% chance of rain with {rainfall_amount} inches of expected rainfall.\"\n",
    "            send_alert(phone_number, message)\n",
    "        else:\n",
    "            print(\"No rain conditions met for today.\")\n",
    "    else:\n",
    "        print(\"Unable to fetch forecast data.\")\n",
    "\n",
    "# Schedule the task to run every day at a specific time (e.g., 7 AM)\n",
    "schedule.every().day.at(\"07:00\").do(run_daily_check, zip_code='90210', phone_number='+1234567890')\n",
    "\n",
    "# Keep the script running\n",
    "while True:\n",
    "    schedule.run_pending()\n",
    "    time.sleep(60)  # Check every minute if the task is due\n"
   ]
  },
  {
   "cell_type": "markdown",
   "metadata": {},
   "source": [
    "### config.json"
   ]
  },
  {
   "cell_type": "code",
   "execution_count": null,
   "metadata": {},
   "outputs": [],
   "source": [
    "{\n",
    "    \"zip_code\": \"90210\",\n",
    "    \"phone_number\": \"+1234567890\"\n",
    "}\n"
   ]
  },
  {
   "cell_type": "code",
   "execution_count": null,
   "metadata": {},
   "outputs": [],
   "source": [
    "def load_config():\n",
    "    with open('config.json') as config_file:\n",
    "        return json.load(config_file)\n",
    "\n",
    "config = load_config()\n",
    "\n",
    "schedule.every().day.at(\"07:00\").do(run_daily_check, zip_code=config['zip_code'], phone_number=config['phone_number'])\n"
   ]
  },
  {
   "cell_type": "code",
   "execution_count": null,
   "metadata": {},
   "outputs": [],
   "source": []
  },
  {
   "cell_type": "code",
   "execution_count": null,
   "metadata": {},
   "outputs": [],
   "source": []
  }
 ],
 "metadata": {
  "kernelspec": {
   "display_name": "weather_app",
   "language": "python",
   "name": "python3"
  },
  "language_info": {
   "codemirror_mode": {
    "name": "ipython",
    "version": 3
   },
   "file_extension": ".py",
   "mimetype": "text/x-python",
   "name": "python",
   "nbconvert_exporter": "python",
   "pygments_lexer": "ipython3",
   "version": "3.10.9"
  }
 },
 "nbformat": 4,
 "nbformat_minor": 2
}
